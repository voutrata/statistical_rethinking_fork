{
 "cells": [
  {
   "cell_type": "code",
   "id": "initial_id",
   "metadata": {
    "collapsed": true,
    "ExecuteTime": {
     "end_time": "2025-10-06T09:08:38.277188Z",
     "start_time": "2025-10-06T09:08:38.274849Z"
    }
   },
   "source": [
    "from datetime import datetime, timedelta\n",
    "s = \"\"\n",
    "start = datetime(year=2025, month=11, day=14)\n",
    "lecture_number = 11"
   ],
   "outputs": [],
   "execution_count": 20
  },
  {
   "metadata": {
    "ExecuteTime": {
     "end_time": "2025-10-06T09:08:38.421689Z",
     "start_time": "2025-10-06T09:08:38.419073Z"
    }
   },
   "cell_type": "code",
   "source": [
    "for i in range(10):\n",
    "    s += f\"Date: {(start + timedelta(weeks=2*i)).strftime('%Y-%m-%d')}, lecture number: {lecture_number+i} 1/2 \\nDate: {(start + timedelta(weeks=2*i+1)).strftime('%Y-%m-%d')}, lecture number: {lecture_number+i} 2/2\\n\""
   ],
   "id": "203292d3b3d1fd17",
   "outputs": [],
   "execution_count": 21
  },
  {
   "metadata": {
    "ExecuteTime": {
     "end_time": "2025-10-06T09:08:38.603527Z",
     "start_time": "2025-10-06T09:08:38.601413Z"
    }
   },
   "cell_type": "code",
   "source": "print(s)",
   "id": "d6534915cbe29de4",
   "outputs": [
    {
     "name": "stdout",
     "output_type": "stream",
     "text": [
      "Date: 2025-11-14, lecture number: 11 1/2 \n",
      "Date: 2025-11-21, lecture number: 11 2/2\n",
      "Date: 2025-11-28, lecture number: 12 1/2 \n",
      "Date: 2025-12-05, lecture number: 12 2/2\n",
      "Date: 2025-12-12, lecture number: 13 1/2 \n",
      "Date: 2025-12-19, lecture number: 13 2/2\n",
      "Date: 2025-12-26, lecture number: 14 1/2 \n",
      "Date: 2026-01-02, lecture number: 14 2/2\n",
      "Date: 2026-01-09, lecture number: 15 1/2 \n",
      "Date: 2026-01-16, lecture number: 15 2/2\n",
      "Date: 2026-01-23, lecture number: 16 1/2 \n",
      "Date: 2026-01-30, lecture number: 16 2/2\n",
      "Date: 2026-02-06, lecture number: 17 1/2 \n",
      "Date: 2026-02-13, lecture number: 17 2/2\n",
      "Date: 2026-02-20, lecture number: 18 1/2 \n",
      "Date: 2026-02-27, lecture number: 18 2/2\n",
      "Date: 2026-03-06, lecture number: 19 1/2 \n",
      "Date: 2026-03-13, lecture number: 19 2/2\n",
      "Date: 2026-03-20, lecture number: 20 1/2 \n",
      "Date: 2026-03-27, lecture number: 20 2/2\n",
      "\n"
     ]
    }
   ],
   "execution_count": 22
  },
  {
   "metadata": {},
   "cell_type": "code",
   "outputs": [],
   "execution_count": null,
   "source": "",
   "id": "2c9fa366851df207"
  }
 ],
 "metadata": {
  "kernelspec": {
   "display_name": "Python 3",
   "language": "python",
   "name": "python3"
  },
  "language_info": {
   "codemirror_mode": {
    "name": "ipython",
    "version": 2
   },
   "file_extension": ".py",
   "mimetype": "text/x-python",
   "name": "python",
   "nbconvert_exporter": "python",
   "pygments_lexer": "ipython2",
   "version": "2.7.6"
  }
 },
 "nbformat": 4,
 "nbformat_minor": 5
}
